{
 "cells": [
  {
   "cell_type": "code",
   "execution_count": 1,
   "metadata": {},
   "outputs": [],
   "source": [
    "import numpy as np\n",
    "import matplotlib.pyplot as plt"
   ]
  },
  {
   "cell_type": "code",
   "execution_count": 2,
   "metadata": {},
   "outputs": [],
   "source": [
    "numLandmarks = 3\n",
    "numPositions = 4\n",
    "startX = 0\n",
    "startY = 0\n",
    "rows, cols = 2 * (numPositions + numLandmarks), 2 * (numPositions + numLandmarks)\n",
    "omega = np.zeros((rows, cols))\n",
    "Xi = np.zeros((rows, 1))\n",
    "Xi[0] = startX\n",
    "Xi[1] = startY\n",
    "omega[0, 0] = 1\n",
    "omega[1, 1] = 1"
   ]
  },
  {
   "cell_type": "code",
   "execution_count": 3,
   "metadata": {},
   "outputs": [
    {
     "data": {
      "text/plain": [
       "array([[1., 0., 0., 0., 0., 0., 0., 0., 0., 0., 0., 0., 0., 0.],\n",
       "       [0., 1., 0., 0., 0., 0., 0., 0., 0., 0., 0., 0., 0., 0.],\n",
       "       [0., 0., 0., 0., 0., 0., 0., 0., 0., 0., 0., 0., 0., 0.],\n",
       "       [0., 0., 0., 0., 0., 0., 0., 0., 0., 0., 0., 0., 0., 0.],\n",
       "       [0., 0., 0., 0., 0., 0., 0., 0., 0., 0., 0., 0., 0., 0.],\n",
       "       [0., 0., 0., 0., 0., 0., 0., 0., 0., 0., 0., 0., 0., 0.],\n",
       "       [0., 0., 0., 0., 0., 0., 0., 0., 0., 0., 0., 0., 0., 0.],\n",
       "       [0., 0., 0., 0., 0., 0., 0., 0., 0., 0., 0., 0., 0., 0.],\n",
       "       [0., 0., 0., 0., 0., 0., 0., 0., 0., 0., 0., 0., 0., 0.],\n",
       "       [0., 0., 0., 0., 0., 0., 0., 0., 0., 0., 0., 0., 0., 0.],\n",
       "       [0., 0., 0., 0., 0., 0., 0., 0., 0., 0., 0., 0., 0., 0.],\n",
       "       [0., 0., 0., 0., 0., 0., 0., 0., 0., 0., 0., 0., 0., 0.],\n",
       "       [0., 0., 0., 0., 0., 0., 0., 0., 0., 0., 0., 0., 0., 0.],\n",
       "       [0., 0., 0., 0., 0., 0., 0., 0., 0., 0., 0., 0., 0., 0.]])"
      ]
     },
     "execution_count": 3,
     "metadata": {},
     "output_type": "execute_result"
    }
   ],
   "source": [
    "omega"
   ]
  },
  {
   "cell_type": "code",
   "execution_count": 4,
   "metadata": {},
   "outputs": [],
   "source": [
    "data = [[0, 0, [[0, 2,2]]],\n",
    "        [1, 0, [[0, 1,2], [1, 3,2]]],\n",
    "        [3, 0, [[1, 1,2], [2, 3, 2]]],\n",
    "        [6, 1, [[2, 0, 1]]]\n",
    "        ]\n"
   ]
  },
  {
   "cell_type": "code",
   "execution_count": 5,
   "metadata": {},
   "outputs": [
    {
     "name": "stdout",
     "output_type": "stream",
     "text": [
      "[[0, 2, 2]]\n",
      "[[0, 1, 2], [1, 3, 2]]\n",
      "[[0, 1, 2], [1, 3, 2]]\n",
      "[[1, 1, 2], [2, 3, 2]]\n",
      "[[1, 1, 2], [2, 3, 2]]\n",
      "[[2, 0, 1]]\n"
     ]
    }
   ],
   "source": [
    "for i in range(0, len(data)):\n",
    "    landmarkArray = data[i][-1]\n",
    "\n",
    "    for j in range(0, len(landmarkArray)):\n",
    "        print(landmarkArray)\n",
    "        markID = landmarkArray[j][0]\n",
    "        x = landmarkArray[j][1]\n",
    "        y = landmarkArray[j][2]\n",
    "        \n",
    "        confidence = 1\n",
    "\n",
    "        omega[2*i, 2*i] += confidence\n",
    "        omega[2*i, 2*numPositions + 2*markID] += -confidence\n",
    "        omega[2*numPositions + 2*markID, 2*i] += -confidence\n",
    "        omega[2*numPositions + 2*markID, 2*numPositions + 2*markID] += confidence \n",
    "\n",
    "        Xi[2*i, 0] += -x *confidence\n",
    "        Xi[2*numPositions + 2*markID, 0] += x *confidence\n",
    "        \n",
    "        omega[2*i + 1, 2*i + 1] += confidence\n",
    "        omega[2*i + 1, 2*numPositions + 2*markID + 1] += -confidence\n",
    "        omega[2*numPositions + 2*markID + 1, 2*i + 1] += -confidence\n",
    "        omega[2*numPositions + 2*markID + 1, 2*numPositions + 2*markID + 1] += confidence\n",
    "        Xi[2*i + 1, 0] += -y *confidence\n",
    "        Xi[2*numPositions + 2*markID + 1, 0] += y *confidence  \n",
    "    \n",
    "    if i == 0: # skip adding to the matrix if we on first position\n",
    "        continue\n",
    "\n",
    "    dx = (data[i][0] - data[i-1][0])\n",
    "    dy = (data[i][1] - data[i-1][1])\n",
    "\n",
    "    confidenceMovement = 1\n",
    "    index = (i-1)\n",
    "\n",
    "    omega[2*index, 2*index] +=  confidenceMovement\n",
    "    omega[2*index, 2*index + 2] += - confidenceMovement\n",
    "    omega[2*index + 2, 2*index] += - confidenceMovement\n",
    "    omega[2*index + 2, 2*index + 2] += confidenceMovement\n",
    "\n",
    "    Xi[2*index, 0] += -dx  * confidenceMovement             \n",
    "    Xi[2*index + 2, 0] += dx * confidenceMovement   \n",
    "\n",
    "\n",
    "    omega[2*index + 1, 2*index + 1] += confidenceMovement\n",
    "    omega[2*index + 1, 2*index + 3] += - confidenceMovement\n",
    "    omega[2*index + 3, 2*index + 1] += - confidenceMovement\n",
    "    omega[2*index + 3, 2*index + 3] += confidenceMovement \n",
    "\n",
    "    Xi[2*index + 1, 0] += -dy * confidenceMovement\n",
    "    Xi[2*index + 3, 0] += dy * confidenceMovement\n",
    "\n"
   ]
  },
  {
   "cell_type": "code",
   "execution_count": 6,
   "metadata": {},
   "outputs": [
    {
     "data": {
      "text/plain": [
       "array([[ 3.,  0., -1.,  0.,  0.,  0.,  0.,  0., -1.,  0.,  0.,  0.,  0.,\n",
       "         0.],\n",
       "       [ 0.,  3.,  0., -1.,  0.,  0.,  0.,  0.,  0., -1.,  0.,  0.,  0.,\n",
       "         0.],\n",
       "       [-1.,  0.,  4.,  0., -1.,  0.,  0.,  0., -1.,  0., -1.,  0.,  0.,\n",
       "         0.],\n",
       "       [ 0., -1.,  0.,  4.,  0., -1.,  0.,  0.,  0., -1.,  0., -1.,  0.,\n",
       "         0.],\n",
       "       [ 0.,  0., -1.,  0.,  4.,  0., -1.,  0.,  0.,  0., -1.,  0., -1.,\n",
       "         0.],\n",
       "       [ 0.,  0.,  0., -1.,  0.,  4.,  0., -1.,  0.,  0.,  0., -1.,  0.,\n",
       "        -1.],\n",
       "       [ 0.,  0.,  0.,  0., -1.,  0.,  2.,  0.,  0.,  0.,  0.,  0., -1.,\n",
       "         0.],\n",
       "       [ 0.,  0.,  0.,  0.,  0., -1.,  0.,  2.,  0.,  0.,  0.,  0.,  0.,\n",
       "        -1.],\n",
       "       [-1.,  0., -1.,  0.,  0.,  0.,  0.,  0.,  2.,  0.,  0.,  0.,  0.,\n",
       "         0.],\n",
       "       [ 0., -1.,  0., -1.,  0.,  0.,  0.,  0.,  0.,  2.,  0.,  0.,  0.,\n",
       "         0.],\n",
       "       [ 0.,  0., -1.,  0., -1.,  0.,  0.,  0.,  0.,  0.,  2.,  0.,  0.,\n",
       "         0.],\n",
       "       [ 0.,  0.,  0., -1.,  0., -1.,  0.,  0.,  0.,  0.,  0.,  2.,  0.,\n",
       "         0.],\n",
       "       [ 0.,  0.,  0.,  0., -1.,  0., -1.,  0.,  0.,  0.,  0.,  0.,  2.,\n",
       "         0.],\n",
       "       [ 0.,  0.,  0.,  0.,  0., -1.,  0., -1.,  0.,  0.,  0.,  0.,  0.,\n",
       "         2.]])"
      ]
     },
     "execution_count": 6,
     "metadata": {},
     "output_type": "execute_result"
    }
   ],
   "source": [
    "omega"
   ]
  },
  {
   "cell_type": "code",
   "execution_count": 7,
   "metadata": {},
   "outputs": [
    {
     "name": "stdout",
     "output_type": "stream",
     "text": [
      "[5.329070518200751e-15, 1.0000000000000027, 3.0000000000000053, 6.000000000000005, 2.0000000000000036, 4.000000000000005, 6.0000000000000036]\n",
      "[1.7763568394002505e-15, 4.440892098500626e-15, 5.329070518200751e-15, 1.0000000000000018, 2.0, 2.0000000000000018, 2.0]\n"
     ]
    },
    {
     "data": {
      "image/png": "[encoded data removed]",
      "text/plain": [
       "<Figure size 432x288 with 1 Axes>"
      ]
     },
     "metadata": {
      "needs_background": "light"
     },
     "output_type": "display_data"
    }
   ],
   "source": [
    "mu = np.linalg.inv(np.matrix(omega)) * Xi\n",
    "np.set_printoptions(suppress=True)\n",
    "mu = mu.tolist()\n",
    "Xarray = []\n",
    "Yarray = []\n",
    "for i in range(0, len(mu)):\n",
    "    item = mu[i][0]\n",
    "    if i % 2 == 0:\n",
    "        Xarray.append(item)\n",
    "    else:\n",
    "        Yarray.append(item)\n",
    "\n",
    "plt.plot(Xarray[:4], Yarray[:4], 'ro')\n",
    "plt.plot(Xarray[4:], Yarray[4:], 'yo')\n",
    "print(Xarray)\n",
    "print(Yarray)"
   ]
  },
  {
   "cell_type": "markdown",
   "metadata": {},
   "source": []
  }
 ],
 "metadata": {
  "kernelspec": {
   "display_name": "Python 3",
   "language": "python",
   "name": "python3"
  },
  "language_info": {
   "codemirror_mode": {
    "name": "ipython",
    "version": 3
   },
   "file_extension": ".py",
   "mimetype": "text/x-python",
   "name": "python",
   "nbconvert_exporter": "python",
   "pygments_lexer": "ipython3",
   "version": "3.6.8"
  }
 },
 "nbformat": 4,
 "nbformat_minor": 2
}
